{
 "cells": [
  {
   "cell_type": "markdown",
   "id": "e7661417",
   "metadata": {},
   "source": [
    "# Setup"
   ]
  },
  {
   "cell_type": "code",
   "execution_count": 1,
   "id": "5de9c25c",
   "metadata": {},
   "outputs": [],
   "source": [
    "#=\n",
    "import Pkg;\n",
    "Pkg.add(\"StaticArrays\");\n",
    "Pkg.status()\n",
    "=#"
   ]
  },
  {
   "cell_type": "code",
   "execution_count": 2,
   "id": "ccbbd02f",
   "metadata": {},
   "outputs": [],
   "source": [
    "using StaticArrays;"
   ]
  },
  {
   "cell_type": "code",
   "execution_count": 3,
   "id": "feaeae28",
   "metadata": {},
   "outputs": [
    {
     "data": {
      "text/plain": [
       "TensorGriddedArray (alias for GriddedArray{SArray{Tuple{2, 2}, Float64, 2, L} where L})"
      ]
     },
     "execution_count": 3,
     "metadata": {},
     "output_type": "execute_result"
    }
   ],
   "source": [
    "struct Square{T}\n",
    "    x::Float64\n",
    "    y::Float64\n",
    "    w::Float64\n",
    "    dielectric::T\n",
    "end\n",
    "\n",
    "struct GriddedArray{T}\n",
    "    xlims::Tuple{Float64, Float64}\n",
    "    ylims::Tuple{Float64, Float64}\n",
    "    pixels::Matrix{T}\n",
    "end\n",
    "\n",
    "const TensorGriddedArray = GriddedArray{SMatrix{2, 2, Float64}}"
   ]
  },
  {
   "cell_type": "markdown",
   "id": "d0a5f8b3",
   "metadata": {},
   "source": [
    "# Question 1 \n",
    "\n",
    "---\n",
    "\n",
    "# Work\n",
    "Consider the solution to this problem for a single element of matrix A called $A_{ij}$\n",
    "\n",
    "`raster_area!` should find:\n",
    "> the fraction of area that pixel intersects with s\n",
    "\n",
    "A diagram of this situation shows that the same problem can be rephrased as **the fraction of area inside s relative to the total pixel area**\n",
    "\n",
    "*Note:  There might be an approach that uses the \"centers bounding box\" relationship to Square that calculates the compliment of overlapping area*\n",
    "\n",
    "Then $A_{i,j} = \\frac{Intersectional Area}{Total Pixel Area}$\n",
    "\n",
    "## Total Pixel Area\n",
    "Clearly, $A_{pixel, total} = w_{pixel} \\times h_{pixel}$\n",
    "\n",
    "Known information is:\n",
    "- xlims\n",
    "- ylims\n",
    "- pixels (matrix)\n",
    "\n",
    "From the example, pixel dimensions can be calculated this way:\n",
    "\n",
    "$w_{pixels} = 2 \\times$ [(length of xlims) / (num columns in matrix)]\n",
    "\n",
    "Similar formula for the pixel height\n",
    "\n",
    "(Assuming) each pixel is the same size, pixel width, pixel height, and total pixel area only need to be calculated once\n",
    "\n",
    "## Intersectional Area\n",
    "\n",
    "When a pixel and square overlap, the resulting shape is a rectangle with some width and height\n",
    "\n",
    "So, the intersectional area is $A_{p\\cup s} = w_{p\\cup s} \\times h_{p\\cup s}$\n",
    "\n",
    "Using this shorthand to describe the corners of a rectangle:\n",
    "- URC => Upper Right Corner\n",
    "- LLC => Lower Left Corner\n",
    "- ...\n",
    "\n",
    "(Assuming all square and pixel edges are orthogonal to the coordinate axes (i.e. x-y plane)) this formula computes the dimensions of the new rectangle\n",
    "\n",
    "Let w' = min(s.LRC, p.LRC) - max(s.LLC, p.LLC) \n",
    "\n",
    "Let h' = min(s.URC, p.URC) - max(s.LRC, p.LRC) \n",
    "\n",
    "Then $A_{p\\cup s} = $ max(0, w') $\\times$ max(0, h')\n",
    "\n",
    "*Note:  If the orthogonal assumption is not always true, I think I would ammend the solution by first applying a rotation matrix, solving the problem, then rotating back*\n",
    "\n",
    "### Square Corners and Pixel Corners\n",
    "\n",
    "Known information for **Square** is \n",
    "- center x coord\n",
    "- center y coord\n",
    "- width\n",
    "\n",
    "Then corners are given by combinations of known information:\n",
    "\n",
    "$(x \\pm \\frac{w}{2}, y \\pm \\frac{w}{2})$\n",
    "\n",
    "---\n",
    "\n",
    "Interfacing with pixels is the same as accessing an element of the matrix `GriddedArray.pixels`\n",
    "\n",
    "~~A datatype that represents pixels as rectangles would let w' and h' formulas to be written as above\n",
    "Having a custom datatype would also allow for multiple dispatch, packaging pixel dimension computations into a one line constructor~~\n",
    "\n",
    "```\n",
    "BoxedPixel(GriddedArray)\n",
    "    width\n",
    "    height\n",
    "    total area\n",
    "end\n",
    "\n",
    "BoxedPixel(GriddedArray, MatrixElement)\n",
    "    index\n",
    "    x\n",
    "    y\n",
    "    width\n",
    "    height\n",
    "    total area?\n",
    "end \n",
    "```\n",
    "\n",
    "~~Now define LRC, URC, LLC, ULC for Square and BoxedPixel~~\n",
    "\n",
    "~~Formulas above give intersectional area~~\n",
    "\n",
    "---\n",
    "\n",
    "Instead of having to deal with uninitialized fields in a struct constructor, dispatch the corner finding functions for 2 types\n",
    "- Square\n",
    "- Matrix\n",
    "\n",
    "**Edge locations convey the same information**"
   ]
  },
  {
   "cell_type": "code",
   "execution_count": 4,
   "id": "5d2c4dd6",
   "metadata": {},
   "outputs": [
    {
     "data": {
      "text/plain": [
       "pixel_height (generic function with 1 method)"
      ]
     },
     "execution_count": 4,
     "metadata": {},
     "output_type": "execute_result"
    }
   ],
   "source": [
    "function pixel_width(A::GriddedArray)\n",
    "    ncols = size(A.pixels, 2)\n",
    "    (A.xlims[2] - A.xlims[1]) / (ncols - 1)\n",
    "\n",
    "end\n",
    "\n",
    "function pixel_height(A::GriddedArray)\n",
    "    nrows = size(A.pixels, 1)\n",
    "    (A.ylims[2] - A.ylims[1]) / (nrows-1)\n",
    "end"
   ]
  },
  {
   "cell_type": "code",
   "execution_count": 5,
   "id": "67faba9d",
   "metadata": {},
   "outputs": [
    {
     "data": {
      "text/plain": [
       "pixel_center (generic function with 1 method)"
      ]
     },
     "execution_count": 5,
     "metadata": {},
     "output_type": "execute_result"
    }
   ],
   "source": [
    "function pixel_center(A::GriddedArray, index::Int64) \n",
    "\n",
    "    nrows = size(A.pixels, 1)\n",
    "    ncols = size(A.pixels, 2)\n",
    "    \n",
    "    Δx = pixel_width(A)\n",
    "    Δy = pixel_height(A)\n",
    "    \n",
    "    xcenter = A.xlims[1] + Δx * ((index - 1.0) % ncols) \n",
    "    ycenter = A.ylims[1] + Δy * ((index - 1.0) ÷ ncols)\n",
    "    \n",
    "    (xcenter, ycenter)\n",
    "end"
   ]
  },
  {
   "cell_type": "code",
   "execution_count": 6,
   "id": "de00f018",
   "metadata": {},
   "outputs": [
    {
     "data": {
      "text/plain": [
       "total_pixel_area (generic function with 1 method)"
      ]
     },
     "execution_count": 6,
     "metadata": {},
     "output_type": "execute_result"
    }
   ],
   "source": [
    "total_pixel_area(A::GriddedArray) = pixel_width(A) * pixel_height(A)"
   ]
  },
  {
   "cell_type": "markdown",
   "id": "293f7b2c",
   "metadata": {},
   "source": [
    "**Represent Squares and Pixels as rectangles**"
   ]
  },
  {
   "cell_type": "code",
   "execution_count": 7,
   "id": "c3c3763c",
   "metadata": {},
   "outputs": [
    {
     "data": {
      "text/plain": [
       "bot_edge (generic function with 2 methods)"
      ]
     },
     "execution_count": 7,
     "metadata": {},
     "output_type": "execute_result"
    }
   ],
   "source": [
    "# Square\n",
    "right_edge(s::Square) = s.x + s.w/2\n",
    "left_edge(s::Square) = s.x - s.w/2\n",
    "top_edge(s::Square) = s.y + s.w/2\n",
    "bot_edge(s::Square) = s.y - s.w/2\n",
    "\n",
    "# Matrix\n",
    "function right_edge(A::GriddedArray, index::Int64)\n",
    "    # Find x coord pixel center\n",
    "    xcenter, _ = pixel_center(A, index)\n",
    "    # Find pixel width\n",
    "    w = pixel_width(A)\n",
    "    # Compute edge loc\n",
    "    xcenter + w/2\n",
    "end\n",
    "\n",
    "function left_edge(A::GriddedArray, index::Int64)\n",
    "    # Find x coord pixel center\n",
    "    xcenter, _ = pixel_center(A, index)\n",
    "    # Find pixel width\n",
    "    w = pixel_width(A)\n",
    "    # Compute edge loc\n",
    "    xcenter - w/2\n",
    "end\n",
    "\n",
    "function top_edge(A::GriddedArray, index::Int64)\n",
    "    # Find y coord pixel center\n",
    "    _, ycenter = pixel_center(A, index)\n",
    "    # Find pixel height\n",
    "    h = pixel_height(A)\n",
    "    # Compute edge loc\n",
    "    ycenter + h/2\n",
    "end\n",
    "\n",
    "function bot_edge(A::GriddedArray, index::Int64)\n",
    "    # Find y coord pixel center\n",
    "    _, ycenter = pixel_center(A, index)\n",
    "    # Find pixel height\n",
    "    h = pixel_height(A)\n",
    "    # Compute edge loc\n",
    "    ycenter - h/2\n",
    "end"
   ]
  },
  {
   "cell_type": "markdown",
   "id": "0512b142",
   "metadata": {},
   "source": [
    "**Use the rectangle representation to compute the area of overlap**"
   ]
  },
  {
   "cell_type": "code",
   "execution_count": 8,
   "id": "5576f05a",
   "metadata": {
    "scrolled": true
   },
   "outputs": [
    {
     "data": {
      "text/plain": [
       "overlapping_area (generic function with 1 method)"
      ]
     },
     "execution_count": 8,
     "metadata": {},
     "output_type": "execute_result"
    }
   ],
   "source": [
    "# Overlapping rectangle\n",
    "\n",
    "function w_prime(A::GriddedArray, index::Int64, s::Square)\n",
    "   min(right_edge(s), right_edge(A, index)) - max(left_edge(s), left_edge(A, index)) \n",
    "end\n",
    "\n",
    "function h_prime(A::GriddedArray, index::Int64, s::Square)\n",
    "   min(top_edge(s), top_edge(A, index)) - max(bot_edge(s), bot_edge(A, index))\n",
    "end\n",
    "\n",
    "function overlapping_area(A::GriddedArray, index::Int64, s::Square)\n",
    "    max(0, w_prime(A, index, s)) * max(0, h_prime(A, index, s))\n",
    "end"
   ]
  },
  {
   "cell_type": "markdown",
   "id": "7dce916e",
   "metadata": {},
   "source": [
    "**Question 1 - `raster_area!` function"
   ]
  },
  {
   "cell_type": "code",
   "execution_count": 9,
   "id": "e09a1903",
   "metadata": {},
   "outputs": [
    {
     "data": {
      "text/plain": [
       "raster_area! (generic function with 1 method)"
      ]
     },
     "execution_count": 9,
     "metadata": {},
     "output_type": "execute_result"
    }
   ],
   "source": [
    "function raster_area!(A::GriddedArray, s::Square)\n",
    "    # Calculate the total area of a single pixel\n",
    "    pixel_area = total_pixel_area(A)\n",
    "\n",
    "    # Iterate over the pixels in A\n",
    "    for index in eachindex(A.pixels)\n",
    "        # Calculate the overlapping area\n",
    "        overlap_area = overlapping_area(A, index, s)\n",
    "        # Calculate the target\n",
    "        # Assign the value of the target to the current element in A\n",
    "        A.pixels[index] = (overlap_area / pixel_area)\n",
    "    end\n",
    "    A\n",
    "end"
   ]
  },
  {
   "cell_type": "markdown",
   "id": "f05da2b3",
   "metadata": {},
   "source": [
    "### Raster Area Examples\n",
    "\n",
    "Several examples to check `raster_area!`"
   ]
  },
  {
   "cell_type": "markdown",
   "id": "5d96108b",
   "metadata": {},
   "source": [
    "#### Square completely overlaps all the pixels"
   ]
  },
  {
   "cell_type": "code",
   "execution_count": 10,
   "id": "20c0fe3e",
   "metadata": {},
   "outputs": [
    {
     "data": {
      "text/plain": [
       "GriddedArray{Float64}((0.0, 1.0), (0.0, 2.0), [1.0 1.0; 1.0 1.0])"
      ]
     },
     "execution_count": 10,
     "metadata": {},
     "output_type": "execute_result"
    }
   ],
   "source": [
    "# GriddedArray specified in the set up example\n",
    "A = GriddedArray((0.0, 1.0), (0.0, 2.0), fill(1.0, 2, 2))\n",
    "\n",
    "# Square with area that totally overlaps all pixels\n",
    "# For Question 1, the dielectric value is arbitrary\n",
    "very_large_square = Square(0.0, 0.0, 9999.0, 1.0)\n",
    "\n",
    "# Expect that pixels matrix is `ones`\n",
    "raster_area!(A, very_large_square)"
   ]
  },
  {
   "cell_type": "markdown",
   "id": "3916e408",
   "metadata": {},
   "source": [
    "#### Square does not overlap any pixel"
   ]
  },
  {
   "cell_type": "code",
   "execution_count": 11,
   "id": "7e3db76e",
   "metadata": {},
   "outputs": [
    {
     "data": {
      "text/plain": [
       "GriddedArray{Float64}((0.0, 1.0), (0.0, 2.0), [0.0 0.0; 0.0 0.0])"
      ]
     },
     "execution_count": 11,
     "metadata": {},
     "output_type": "execute_result"
    }
   ],
   "source": [
    "# GriddedArray specified in the set up example\n",
    "A = GriddedArray((0.0, 1.0), (0.0, 2.0), fill(1.0, 2, 2))\n",
    "\n",
    "# Square with small area that is very far away from all pixels\n",
    "# For Question 1, the dielectric value is arbitrary\n",
    "far_away_square = Square(-1000.0, -1000.0, 1.0, 1.0)\n",
    "\n",
    "# Expect that pixels matrix is `zeros`\n",
    "raster_area!(A, far_away_square)"
   ]
  },
  {
   "cell_type": "markdown",
   "id": "4b9f4193",
   "metadata": {},
   "source": [
    "#### Constructed Example \n",
    "\n",
    "Pen/paper example worked out such that pixels matrix is `[[0.25, 0.5], [0.5, 1.0]]`"
   ]
  },
  {
   "cell_type": "code",
   "execution_count": 12,
   "id": "42c3e4e9",
   "metadata": {},
   "outputs": [
    {
     "data": {
      "text/plain": [
       "GriddedArray{Float64}((0.0, 1.0), (0.0, 2.0), [0.25 0.5; 0.5 1.0])"
      ]
     },
     "execution_count": 12,
     "metadata": {},
     "output_type": "execute_result"
    }
   ],
   "source": [
    "# GriddedArray specified in the set up example\n",
    "A = GriddedArray((0.0, 1.0), (0.0, 2.0), fill(1.0, 2, 2))\n",
    "\n",
    "#= \n",
    "Constructed example of a Square that overlaps the pixels giving\n",
    "\n",
    "[[0.25, 0.5], [0.5, 1.0]]\n",
    "\n",
    "For Question 1, the dielectric value is arbitrary\n",
    "=#\n",
    "constructed_square = Square(1.5, 1.5, 3.0, 1.0)\n",
    "\n",
    "raster_area!(A, constructed_square)"
   ]
  },
  {
   "cell_type": "markdown",
   "id": "8cdf252e",
   "metadata": {},
   "source": [
    "#### Bigger Pixel Matrix\n",
    "\n",
    "Example where the underlying pixels matrix is 5x5 instead of 2x2"
   ]
  },
  {
   "cell_type": "code",
   "execution_count": 13,
   "id": "a9b19b1f",
   "metadata": {},
   "outputs": [
    {
     "data": {
      "text/plain": [
       "5×5 Matrix{Float64}:\n",
       " 0.0  0.0   0.0  0.0   0.0\n",
       " 0.0  0.25  1.0  0.25  0.0\n",
       " 0.0  0.25  1.0  0.25  0.0\n",
       " 0.0  0.25  1.0  0.25  0.0\n",
       " 0.0  0.0   0.0  0.0   0.0"
      ]
     },
     "execution_count": 13,
     "metadata": {},
     "output_type": "execute_result"
    }
   ],
   "source": [
    "# GriddedArray that is bigger than the example GriddedArray\n",
    "A_55 = GriddedArray((0.0, 1.0), (0.0, 2.0), fill(1.0, 5, 5))\n",
    "\n",
    "#=\n",
    "Constructed example where the pixel matrix is 5x5\n",
    "=#\n",
    "constructed_square_55 = Square(0.5, 1.0, 0.75, 1.0)\n",
    "\n",
    "raster_area!(A_55, constructed_square_55)\n",
    "\n",
    "# View pixels matrix by itself\n",
    "A_55.pixels"
   ]
  },
  {
   "cell_type": "markdown",
   "id": "9df1de87",
   "metadata": {},
   "source": [
    "For each pixel, its center is located on or within the *centers bounding box* (a rectangle defined by `xlims` and `ylims`)\n",
    "\n",
    "The dimensions of each pixel are calculated by evenly dividing the width and height of the centers bounding box.\n",
    "\n",
    "Drawing a few diagram examples shows that each dimension of the centers bounding box is divided into $d-1$ even sections, where $d$ is either the number of rows or the number of columns in the pixels matrix.\n",
    "\n",
    "Using this rule, the pixels from the above example should have width $\\frac{1}{5-1}$ and height $\\frac{2}{5-1}$. The resulting area is $\\frac{1}{8}$ or 0.125"
   ]
  },
  {
   "cell_type": "code",
   "execution_count": 14,
   "id": "0605e238",
   "metadata": {},
   "outputs": [
    {
     "data": {
      "text/plain": [
       "0.125"
      ]
     },
     "execution_count": 14,
     "metadata": {},
     "output_type": "execute_result"
    }
   ],
   "source": [
    "total_pixel_area(A_55)"
   ]
  },
  {
   "cell_type": "code",
   "execution_count": 15,
   "id": "668ae3ab",
   "metadata": {},
   "outputs": [
    {
     "data": {
      "text/plain": [
       "true"
      ]
     },
     "execution_count": 15,
     "metadata": {},
     "output_type": "execute_result"
    }
   ],
   "source": [
    "sum(A_55.pixels * total_pixel_area(A_55)) == (constructed_square_55.w)^2"
   ]
  },
  {
   "cell_type": "markdown",
   "id": "98a975f9",
   "metadata": {},
   "source": [
    "It will be useful to construct the raster area matrix, as in Question 1, without modifying the underlying matrix."
   ]
  },
  {
   "cell_type": "code",
   "execution_count": 16,
   "id": "251a804f",
   "metadata": {},
   "outputs": [
    {
     "data": {
      "text/plain": [
       "raster_area (generic function with 1 method)"
      ]
     },
     "execution_count": 16,
     "metadata": {},
     "output_type": "execute_result"
    }
   ],
   "source": [
    "function raster_area(A::GriddedArray, s::Square)\n",
    "    \n",
    "    # Create a copy of the unmodified GriddedArray\n",
    "    # FIXME:  Potentially expensive operation\n",
    "    A′ = deepcopy(A)\n",
    "    \n",
    "    # Calculate the total area of a single pixel\n",
    "    pixel_area = total_pixel_area(A′)\n",
    "\n",
    "    # Iterate over the pixels in A\n",
    "    for index in eachindex(A′.pixels)\n",
    "        # Calculate the overlapping area\n",
    "        overlap_area = overlapping_area(A′, index, s)\n",
    "        # Calculate the target\n",
    "        # Assign the value of the target to the current element in A\n",
    "        A′.pixels[index] = (overlap_area / pixel_area)\n",
    "    end\n",
    "    A′\n",
    "end"
   ]
  },
  {
   "cell_type": "markdown",
   "id": "8ed33565",
   "metadata": {},
   "source": [
    "Check that `raster_area` behaves as intended"
   ]
  },
  {
   "cell_type": "code",
   "execution_count": 17,
   "id": "c4ecbe30",
   "metadata": {},
   "outputs": [
    {
     "data": {
      "text/plain": [
       "5×5 Matrix{Float64}:\n",
       " 1.0  1.0  1.0  1.0  1.0\n",
       " 1.0  1.0  1.0  1.0  1.0\n",
       " 1.0  1.0  1.0  1.0  1.0\n",
       " 1.0  1.0  1.0  1.0  1.0\n",
       " 1.0  1.0  1.0  1.0  1.0"
      ]
     },
     "execution_count": 17,
     "metadata": {},
     "output_type": "execute_result"
    }
   ],
   "source": [
    "original = GriddedArray((0.0, 1.0), (0.0, 2.0), fill(1.0, 5, 5))\n",
    "original.pixels"
   ]
  },
  {
   "cell_type": "code",
   "execution_count": 18,
   "id": "5ddd1caa",
   "metadata": {},
   "outputs": [
    {
     "data": {
      "text/plain": [
       "5×5 Matrix{Float64}:\n",
       " 0.0  0.0   0.0  0.0   0.0\n",
       " 0.0  0.25  1.0  0.25  0.0\n",
       " 0.0  0.25  1.0  0.25  0.0\n",
       " 0.0  0.25  1.0  0.25  0.0\n",
       " 0.0  0.0   0.0  0.0   0.0"
      ]
     },
     "execution_count": 18,
     "metadata": {},
     "output_type": "execute_result"
    }
   ],
   "source": [
    "result = raster_area(original, constructed_square_55)\n",
    "result.pixels"
   ]
  },
  {
   "cell_type": "code",
   "execution_count": 19,
   "id": "ec480d93",
   "metadata": {},
   "outputs": [
    {
     "data": {
      "text/plain": [
       "5×5 Matrix{Float64}:\n",
       " 1.0  1.0  1.0  1.0  1.0\n",
       " 1.0  1.0  1.0  1.0  1.0\n",
       " 1.0  1.0  1.0  1.0  1.0\n",
       " 1.0  1.0  1.0  1.0  1.0\n",
       " 1.0  1.0  1.0  1.0  1.0"
      ]
     },
     "execution_count": 19,
     "metadata": {},
     "output_type": "execute_result"
    }
   ],
   "source": [
    "original.pixels"
   ]
  },
  {
   "cell_type": "markdown",
   "id": "6a3cd288",
   "metadata": {},
   "source": [
    "# Question 2\n",
    "\n",
    "---\n",
    "\n",
    "# Work\n",
    "\n",
    "For each pixel, calculate:\n",
    "\n",
    "$\\langle\\varepsilon\\rangle = (\\kappa_{pixel})(1-A_{overlap}) + (\\kappa_{square})(A_{overlap})$\n",
    "\n",
    "Where $A$ is an area.\n",
    "\n",
    "---\n",
    "\n",
    "Each term in the formula above is (or can be) encoded in a matrix.\n",
    "\n",
    "So, it may be possible to write the solution as a series of element-wise and matrix-wise operations (instead of iterating over the elements).\n",
    "\n",
    "---\n",
    "\n",
    "- $\\kappa_{pixel}$ would be the iterative value \n",
    "- $1-A_{overlap}$ would change depending on the current iterator value\n",
    "\n",
    "==> should be elementwise multiplication"
   ]
  },
  {
   "cell_type": "code",
   "execution_count": 20,
   "id": "b8c87ff5",
   "metadata": {},
   "outputs": [
    {
     "data": {
      "text/plain": [
       "overlap_matrix (generic function with 1 method)"
      ]
     },
     "execution_count": 20,
     "metadata": {},
     "output_type": "execute_result"
    }
   ],
   "source": [
    "function overlap_matrix(A::GriddedArray, s::Square)\n",
    "    raster_area(A, s).pixels\n",
    "end"
   ]
  },
  {
   "cell_type": "code",
   "execution_count": 21,
   "id": "01ddf727",
   "metadata": {},
   "outputs": [
    {
     "data": {
      "text/plain": [
       "overlap_compliment_matrix (generic function with 1 method)"
      ]
     },
     "execution_count": 21,
     "metadata": {},
     "output_type": "execute_result"
    }
   ],
   "source": [
    "function overlap_compliment_matrix(A::GriddedArray, s::Square)\n",
    "     ones(size(A.pixels)) - overlap_matrix(A, s)\n",
    "end"
   ]
  },
  {
   "cell_type": "markdown",
   "id": "1389e495",
   "metadata": {},
   "source": [
    "# THIS SOLUTION DOES NOT MUTATE THE GRIDDED ARRAY"
   ]
  },
  {
   "cell_type": "code",
   "execution_count": 22,
   "id": "a9d681d9",
   "metadata": {},
   "outputs": [
    {
     "data": {
      "text/plain": [
       "raster_scalar_dielectric! (generic function with 1 method)"
      ]
     },
     "execution_count": 22,
     "metadata": {},
     "output_type": "execute_result"
    }
   ],
   "source": [
    "function raster_scalar_dielectric!(A::GriddedArray, s::Square)\n",
    "    O = overlap_matrix(A, s)\n",
    "    C = overlap_compliment_matrix(A, s)\n",
    "    K_square = s.dielectric .* ones(size(A.pixels))\n",
    "    \n",
    "    (A.pixels .* C) + (K_square .* O)\n",
    "end"
   ]
  },
  {
   "cell_type": "markdown",
   "id": "0bec3270",
   "metadata": {},
   "source": [
    "### Raster Scalar Dielectric Examples"
   ]
  },
  {
   "cell_type": "code",
   "execution_count": 23,
   "id": "de23061f",
   "metadata": {},
   "outputs": [
    {
     "data": {
      "text/plain": [
       "5×5 Matrix{Float64}:\n",
       " 2.0  2.0    2.0  2.0    2.0\n",
       " 2.0  1.875  1.5  1.875  2.0\n",
       " 2.0  1.875  1.5  1.875  2.0\n",
       " 2.0  1.875  1.5  1.875  2.0\n",
       " 2.0  2.0    2.0  2.0    2.0"
      ]
     },
     "execution_count": 23,
     "metadata": {},
     "output_type": "execute_result"
    }
   ],
   "source": [
    "# GriddedArray and Square for a constructed example\n",
    "A = GriddedArray((0.0, 1.0), (0.0, 2.0), fill(2.0, 5, 5))\n",
    "s = Square(0.5, 1.0, 0.75, 1.5)\n",
    "\n",
    "# Apply raster_scalar_dielectric!\n",
    "raster_scalar_dielectric!(A, s)"
   ]
  },
  {
   "cell_type": "markdown",
   "id": "d219fca2",
   "metadata": {},
   "source": [
    "# Question 3\n",
    "\n",
    "$\\langle\\varepsilon^{-1}\\rangle^{-1} = \\frac{\\kappa_{pixel}\\kappa_{square}}{\\kappa_{square}(1-A_{overlap}) + \\kappa_{pixel}(A_{overlap})}$"
   ]
  },
  {
   "cell_type": "markdown",
   "id": "e7f5f5cc",
   "metadata": {},
   "source": [
    "# THIS SOLUTION DOES NOT MUTATE THE GRIDDED ARRAY"
   ]
  },
  {
   "cell_type": "code",
   "execution_count": 24,
   "id": "3520feae",
   "metadata": {},
   "outputs": [
    {
     "data": {
      "text/plain": [
       "raster_harmonic! (generic function with 1 method)"
      ]
     },
     "execution_count": 24,
     "metadata": {},
     "output_type": "execute_result"
    }
   ],
   "source": [
    "function raster_harmonic!(A::GriddedArray, s::Square)\n",
    "    O = overlap_matrix(A, s)\n",
    "    C = overlap_compliment_matrix(A, s)\n",
    "    K_square = s.dielectric .* ones(size(A.pixels))\n",
    "    \n",
    "    numerator = (A.pixels) .* K_square\n",
    "    denominator = (K_square .* C) .+ (A.pixels .* O)\n",
    "    \n",
    "    numerator ./ denominator\n",
    "end "
   ]
  },
  {
   "cell_type": "markdown",
   "id": "9d8251ac",
   "metadata": {},
   "source": [
    "### Raster Harmonic Example"
   ]
  },
  {
   "cell_type": "code",
   "execution_count": 25,
   "id": "fc64285b",
   "metadata": {},
   "outputs": [
    {
     "data": {
      "text/plain": [
       "5×5 Matrix{Float64}:\n",
       " 2.0  2.0      2.0  2.0      2.0\n",
       " 2.0  1.84615  1.5  1.84615  2.0\n",
       " 2.0  1.84615  1.5  1.84615  2.0\n",
       " 2.0  1.84615  1.5  1.84615  2.0\n",
       " 2.0  2.0      2.0  2.0      2.0"
      ]
     },
     "execution_count": 25,
     "metadata": {},
     "output_type": "execute_result"
    }
   ],
   "source": [
    "# GriddedArray and Square for a constructed example\n",
    "A = GriddedArray((0.0, 1.0), (0.0, 2.0), fill(2.0, 5, 5))\n",
    "s = Square(0.5, 1.0, 0.75, 1.5)\n",
    "\n",
    "# Apply raster_scalar_dielectric!\n",
    "raster_harmonic!(A, s)"
   ]
  },
  {
   "cell_type": "markdown",
   "id": "faef1d48",
   "metadata": {},
   "source": [
    "# Question 4\n",
    "\n",
    "Consider a square `s` with \n",
    "- center (`s.x`, `s.y`)\n",
    "- width `s.w`\n",
    "\n",
    "and point `p` with coordinates (`p_x`, `p_y`)\n",
    "\n",
    "---\n",
    "\n",
    "`s` has four corners with coordinates:\n",
    "- urc = (s.x + s.w/2, s.x + s.w/2)\n",
    "- ulc = (s.x - s.w/2, s.x + s.w/2)\n",
    "- llc = (s.x - s.w/2, s.x - s.w/2)\n",
    "- lrc = (s.x + s.w/2, s.x - s.w/2)\n",
    "\n",
    "`s` has four surfaces that are open intervals:\n",
    "- top = (ulc[1], urc[1])\n",
    "- bot = (llc[1], lrc[1])\n",
    "- left = (llc[2], ulc[2])\n",
    "- right = (lrc[2], urc[2])\n",
    "\n",
    "Each surface has a normal vector:\n",
    "- $\\hat n_{top}$ = [0, 1]\n",
    "- $\\hat n_{bot}$ = [0, -1]\n",
    "- $\\hat n_{left}$ = [-1, 0]\n",
    "- $\\hat n_{top}$ = [1, 0]\n",
    "\n",
    "---\n",
    "\n",
    "Say that point `p` is **inside** `s` when one of the following statements is true:\n",
    "- Point is the Square center:  `p` has the coordinates (s.x, s.y)\"\n",
    "- Point is a corner:  `p` has the coordinates of urc, ulc, llc, or lrc \n",
    "- Point is on a surface:  `p_i` ≈ `s.i` and `s_j - s.w/2` < `p_j` < `s_j + s.w/2` (i, j $\\leftrightarrow$ x, y)\n",
    "- Square contains the Point:  `s_i - s.w/2` < `p_i` < `s_i + s.w/2` and `s_j - s.w/2` < `p_j` < `s_j + s.w/2` (i, j $\\leftrightarrow$ x, y)\n",
    "\n",
    "Say that point `p` is outside when `p` is not inside.\n",
    "\n",
    "---\n",
    "\n",
    "If one of:\n",
    "- Point is the Square Center\n",
    "- Point is a corner\n",
    "- Point is on a surface\n",
    "\n",
    "is true then the problem is solved by:\n",
    "- $\\hat 0$\n",
    "- $\\langle$ adjacent surface normals $\\rangle$\n",
    "- $\\hat n_{surface}$\n",
    "\n",
    "respectively\n",
    "\n",
    "---\n",
    "\n",
    "If \"Square contains Point\" or Point is outside, the following procedure should yield the answer.\n",
    "\n",
    "```\n",
    "Define s according to 8 coordinate tuples\n",
    "    - 4 corners\n",
    "    - 4 midpoints of surfaces\n",
    "    \n",
    "    \n",
    "If p is inside\n",
    "    For each midpoint\n",
    "        Construct a vector from p to the midpoint\n",
    "        Record the value of the perpendicular coordinate\n",
    "        Record the surface corresponding to this midpoint\n",
    "Else (p is outside)\n",
    "    For each midpoint\n",
    "        Construct a vector from p to the midpoint\n",
    "        If the perpendicular coordinate of the vector is non-zero\n",
    "            Record the value of the perpendicular coordinate\n",
    "            Record the surface correponding to this midpoint\n",
    "\n",
    "For each corner\n",
    "    Construct a vector from p to the corner\n",
    "    Record the length of the vect\n",
    "    Record the corner\n",
    "    \n",
    "If p is outside\n",
    "    For each midpoint pair\n",
    "        Calc coordinates of q the recorded distance away from p in the direction of the perpendicular\n",
    "            If q is not on s\n",
    "                Discard the pair\n",
    "\n",
    "If the point is inside\n",
    "    Calc minimum distance\n",
    "    Discard all records that are > minimum distance\n",
    "    If there are ties\n",
    "        Average all corresponding normals\n",
    "\n",
    "If the point is outside\n",
    "    Calc minimum distance \n",
    "    Solution is the normal vector of the target with this coordinate\n",
    "    \n",
    "```"
   ]
  },
  {
   "cell_type": "code",
   "execution_count": 26,
   "id": "62ae0f64",
   "metadata": {},
   "outputs": [
    {
     "data": {
      "text/plain": [
       "((0, 0), (0.1, -0.4), (1.0, 0.5), (1.0, 1.0), (-3, 4))"
      ]
     },
     "execution_count": 26,
     "metadata": {},
     "output_type": "execute_result"
    }
   ],
   "source": [
    "# Example data\n",
    "simple_square = Square(0.0, 0.0, 2.0, 1.0)\n",
    "center = (0, 0)\n",
    "inside = (0.1, -0.4)\n",
    "surface = (1.0, 0.5)\n",
    "corner = (1.0, 1.0)\n",
    "outside = (-3, 4)\n",
    "\n",
    "my_points = (center, inside, surface, corner, outside)"
   ]
  },
  {
   "cell_type": "code",
   "execution_count": 27,
   "id": "3b50b3b1",
   "metadata": {},
   "outputs": [
    {
     "data": {
      "text/plain": [
       "fuzzy_eq (generic function with 1 method)"
      ]
     },
     "execution_count": 27,
     "metadata": {},
     "output_type": "execute_result"
    }
   ],
   "source": [
    "# Equality comparison for Tuples{Float64, ...}\n",
    "function fuzzy_eq(a::Tuple, b::Tuple)\n",
    "    (a[1] ≈ b[1]) && (a[2] ≈ (b[2]))\n",
    "end"
   ]
  },
  {
   "cell_type": "code",
   "execution_count": 28,
   "id": "9f94b191",
   "metadata": {},
   "outputs": [
    {
     "data": {
      "text/plain": [
       "fuzzy_leq (generic function with 1 method)"
      ]
     },
     "execution_count": 28,
     "metadata": {},
     "output_type": "execute_result"
    }
   ],
   "source": [
    "# Less than or equal to comparison for Float\n",
    "function fuzzy_leq(left, right)\n",
    "    (left < right) || (left ≈ right)\n",
    "end"
   ]
  },
  {
   "cell_type": "code",
   "execution_count": 29,
   "id": "925383e2",
   "metadata": {},
   "outputs": [
    {
     "data": {
      "text/plain": [
       "fuzzy_in_open_range (generic function with 1 method)"
      ]
     },
     "execution_count": 29,
     "metadata": {},
     "output_type": "execute_result"
    }
   ],
   "source": [
    "# Check if x is inside the open range (lep, rep)\n",
    "function fuzzy_in_open_range(lep, x, rep)\n",
    "    \n",
    "    # Since the range is open, x cannot be lep or rep\n",
    "    if x ≈ lep\n",
    "        return false\n",
    "    end\n",
    "    \n",
    "    if x ≈ rep\n",
    "        return false\n",
    "    end\n",
    "       \n",
    "    # Only eval to true when x is strictly in the open range\n",
    "    fuzzy_leq(lep, x) && fuzzy_leq(x, rep)\n",
    "    \n",
    "end"
   ]
  },
  {
   "cell_type": "code",
   "execution_count": 30,
   "id": "a51dce90",
   "metadata": {},
   "outputs": [
    {
     "data": {
      "text/plain": [
       "corners (generic function with 1 method)"
      ]
     },
     "execution_count": 30,
     "metadata": {},
     "output_type": "execute_result"
    }
   ],
   "source": [
    "# Corners\n",
    "urc(s::Square) = (s.x + s.w/2, s.y + s.w/2)\n",
    "ulc(s::Square) = (s.x - s.w/2, s.y + s.w/2)\n",
    "llc(s::Square) = (s.x - s.w/2, s.y - s.w/2)\n",
    "lrc(s::Square) = (s.x + s.w/2, s.y - s.w/2)\n",
    "\n",
    "corners(s::Square) = (urc(s), ulc(s), llc(s), lrc(s))"
   ]
  },
  {
   "cell_type": "code",
   "execution_count": 31,
   "id": "c756e779",
   "metadata": {
    "scrolled": true
   },
   "outputs": [
    {
     "data": {
      "text/plain": [
       "point_is_corner (generic function with 1 method)"
      ]
     },
     "execution_count": 31,
     "metadata": {},
     "output_type": "execute_result"
    }
   ],
   "source": [
    "function point_is_corner(p::Tuple, s::Square)\n",
    "    # Assume point is not a corner\n",
    "    result = false\n",
    "    \n",
    "    # Compare point with coordinates of the corners\n",
    "    for corner in (urc(s), ulc(s), llc(s), lrc(s))\n",
    "        if fuzzy_eq(p, corner)\n",
    "            result = true\n",
    "        end\n",
    "    end\n",
    "\n",
    "    result\n",
    "end"
   ]
  },
  {
   "cell_type": "code",
   "execution_count": 32,
   "id": "cca3cd7a",
   "metadata": {},
   "outputs": [
    {
     "data": {
      "text/plain": [
       "which_corner (generic function with 1 method)"
      ]
     },
     "execution_count": 32,
     "metadata": {},
     "output_type": "execute_result"
    }
   ],
   "source": [
    "function which_corner(p::Tuple, s::Square)\n",
    "    fwd = Dict(\n",
    "        \"urc\" => (s.x + s.w/2, s.x + s.w/2),\n",
    "        \"ulc\" => (s.x - s.w/2, s.x + s.w/2),\n",
    "        \"llc\" => (s.x - s.w/2, s.x - s.w/2),\n",
    "        \"lrc\" => (s.x + s.w/2, s.x - s.w/2)\n",
    "    )\n",
    "    \n",
    "    bkd = Dict(v => k for (k, v) in fwd)\n",
    "    \n",
    "    bkd[p]\n",
    "end"
   ]
  },
  {
   "cell_type": "code",
   "execution_count": 33,
   "id": "b62e6d5c",
   "metadata": {},
   "outputs": [
    {
     "data": {
      "text/plain": [
       "point_on_right (generic function with 1 method)"
      ]
     },
     "execution_count": 33,
     "metadata": {},
     "output_type": "execute_result"
    }
   ],
   "source": [
    "# Surfaces\n",
    "point_on_top(p::Tuple, s::Square) = (p[2] ≈ (s.y + s.w/2)) && fuzzy_in_open_range(ulc(s)[1], p[1], urc(s)[1])\n",
    "point_on_bot(p::Tuple, s::Square) = (p[2] ≈ (s.y - s.w/2)) && fuzzy_in_open_range(llc(s)[1], p[1], lrc(s)[1])\n",
    "point_on_left(p::Tuple, s::Square) = (p[1] ≈ (s.x - s.w/2)) && fuzzy_in_open_range(llc(s)[2], p[2], ulc(s)[2])\n",
    "point_on_right(p::Tuple, s::Square) = (p[1] ≈ (s.x + s.w/2)) && fuzzy_in_open_range(lrc(s)[2], p[2], urc(s)[2])"
   ]
  },
  {
   "cell_type": "code",
   "execution_count": 34,
   "id": "bc1777ae",
   "metadata": {},
   "outputs": [
    {
     "data": {
      "text/plain": [
       "point_is_on_surface (generic function with 1 method)"
      ]
     },
     "execution_count": 34,
     "metadata": {},
     "output_type": "execute_result"
    }
   ],
   "source": [
    "function point_is_on_surface(p::Tuple, s::Square)\n",
    "    result = false\n",
    "    \n",
    "    if point_on_top(p, s)\n",
    "        result = true\n",
    "    end\n",
    "        \n",
    "    if point_on_bot(p, s)\n",
    "        result = true\n",
    "    end\n",
    "    \n",
    "    if point_on_left(p, s)\n",
    "        result = true\n",
    "    end\n",
    "    \n",
    "    if point_on_right(p, s)\n",
    "        result = true\n",
    "    end\n",
    "    \n",
    "    result \n",
    "end"
   ]
  },
  {
   "cell_type": "code",
   "execution_count": 35,
   "id": "6edda45c",
   "metadata": {
    "scrolled": true
   },
   "outputs": [
    {
     "data": {
      "text/plain": [
       "which_surface (generic function with 1 method)"
      ]
     },
     "execution_count": 35,
     "metadata": {},
     "output_type": "execute_result"
    }
   ],
   "source": [
    "function which_surface(p::Tuple, s::Square)\n",
    "    surface = \"\"\n",
    "    \n",
    "    if point_on_top(p, s)\n",
    "        surface = \"top\"\n",
    "    end\n",
    "        \n",
    "    if point_on_bot(p, s)\n",
    "        surface = \"bot\"\n",
    "    end\n",
    "    \n",
    "    if point_on_left(p, s)\n",
    "        surface = \"left\"\n",
    "    end\n",
    "    \n",
    "    if point_on_right(p, s)\n",
    "        surface = \"right\"\n",
    "    end\n",
    "    \n",
    "    surface \n",
    "end"
   ]
  },
  {
   "cell_type": "code",
   "execution_count": 36,
   "id": "937fdd3c",
   "metadata": {},
   "outputs": [
    {
     "data": {
      "text/plain": [
       "square_contains_point (generic function with 1 method)"
      ]
     },
     "execution_count": 36,
     "metadata": {},
     "output_type": "execute_result"
    }
   ],
   "source": [
    "# Final condition that classifies a point as inside\n",
    "function square_contains_point(p::Tuple, s::Square)\n",
    "    fuzzy_in_open_range(ulc(s)[1], p[1], urc(s)[1]) && fuzzy_in_open_range(llc(s)[2], p[2], ulc(s)[2])\n",
    "end"
   ]
  },
  {
   "cell_type": "code",
   "execution_count": 37,
   "id": "e45aeb51",
   "metadata": {},
   "outputs": [
    {
     "data": {
      "text/plain": [
       "point_is_inside (generic function with 1 method)"
      ]
     },
     "execution_count": 37,
     "metadata": {},
     "output_type": "execute_result"
    }
   ],
   "source": [
    "function point_is_inside(p::Tuple, s::Square)\n",
    "    # Assume point is not inside\n",
    "    result = false\n",
    "    \n",
    "    # Check if p is the Square center\n",
    "    if fuzzy_eq(p, (s.x, s.y))\n",
    "        result = true\n",
    "    end\n",
    "    \n",
    "    # Check if p is a corner\n",
    "    if point_is_corner(p, s)\n",
    "        result = true\n",
    "    end\n",
    "    \n",
    "    # Check if p lies on a surface\n",
    "    if point_is_on_surface(p, s)\n",
    "        result = true\n",
    "    end\n",
    "    \n",
    "    # Check if s contains p\n",
    "    if square_contains_point(p, s)\n",
    "        result = true\n",
    "    end\n",
    "    \n",
    "    result \n",
    "end"
   ]
  },
  {
   "cell_type": "code",
   "execution_count": 38,
   "id": "e76f3c2a",
   "metadata": {},
   "outputs": [
    {
     "data": {
      "text/plain": [
       "distance_formula (generic function with 1 method)"
      ]
     },
     "execution_count": 38,
     "metadata": {},
     "output_type": "execute_result"
    }
   ],
   "source": [
    "distance_formula(a::Tuple, b::Tuple) = sqrt((a[1] - b[1])^2 + (a[2] - b[2])^2)"
   ]
  },
  {
   "cell_type": "code",
   "execution_count": 39,
   "id": "1c6f26dd",
   "metadata": {},
   "outputs": [
    {
     "data": {
      "text/plain": [
       "drop_perp_to_right (generic function with 1 method)"
      ]
     },
     "execution_count": 39,
     "metadata": {},
     "output_type": "execute_result"
    }
   ],
   "source": [
    "# Check if dropping a perpendicular from p intersects with a surface\n",
    "drop_perp_to_top(p::Tuple, s::Square) = point_on_top((p[1], (s.y + s.w/2)), s)\n",
    "drop_perp_to_bot(p::Tuple, s::Square) = point_on_bot((p[1], (s.y - s.w/2)), s)\n",
    "drop_perp_to_left(p::Tuple, s::Square) = point_on_left(((s.x - s.w/2), p[2]), s)\n",
    "drop_perp_to_right(p::Tuple, s::Square) = point_on_right(((s.x + s.w/2), p[2]), s)"
   ]
  },
  {
   "cell_type": "code",
   "execution_count": 40,
   "id": "a3a2e186",
   "metadata": {},
   "outputs": [
    {
     "data": {
      "text/plain": [
       "distance_to_surface (generic function with 1 method)"
      ]
     },
     "execution_count": 40,
     "metadata": {},
     "output_type": "execute_result"
    }
   ],
   "source": [
    "function distance_to_surface(p::Tuple, s::Square, surface)\n",
    "    surfaces = Dict(\n",
    "        \"top\" => (p[1], (s.y + s.w/2)),\n",
    "        \"bot\" => (p[1], (s.y - s.w/2)),\n",
    "        \"left\" => ((s.x - s.w/2), p[2]),\n",
    "        \"right\" => ((s.x + s.w/2), p[2])\n",
    "    )\n",
    "    \n",
    "    if surface == \"top\"\n",
    "        # A surface is only a candidate solution if dropping a perpendicular from p lands on the surface\n",
    "        if drop_perp_to_top(p, s)\n",
    "            return distance_formula(p, surfaces[surface])\n",
    "        # This entry will be eliminated when distances are filtered \n",
    "        else\n",
    "            return Inf\n",
    "        end\n",
    "    end\n",
    "    \n",
    "    if surface == \"bot\"\n",
    "        # A surface is only a candidate solution if dropping a perpendicular from p lands on the surface\n",
    "        if drop_perp_to_bot(p, s)\n",
    "            return distance_formula(p, surfaces[surface])\n",
    "        # This entry will be eliminated when distances are filtered \n",
    "        else\n",
    "            return Inf\n",
    "        end\n",
    "    end\n",
    "        \n",
    "    if surface == \"left\"\n",
    "        # A surface is only a candidate solution if dropping a perpendicular from p lands on the surface\n",
    "        if drop_perp_to_left(p, s)\n",
    "            return distance_formula(p, surfaces[surface])\n",
    "        # This entry will be eliminated when distances are filtered \n",
    "        else\n",
    "            return Inf\n",
    "        end\n",
    "    end\n",
    "                            \n",
    "    if surface == \"right\"\n",
    "        # A surface is only a candidate solution if dropping a perpendicular from p lands on the surface\n",
    "        if drop_perp_to_right(p, s)\n",
    "            return distance_formula(p, surfaces[surface])\n",
    "        # This entry will be eliminated when distances are filtered \n",
    "        else\n",
    "            return Inf  \n",
    "        end\n",
    "    end\n",
    "\n",
    "end"
   ]
  },
  {
   "cell_type": "code",
   "execution_count": 41,
   "id": "eb864421",
   "metadata": {},
   "outputs": [
    {
     "data": {
      "text/plain": [
       "distance_to_corner (generic function with 1 method)"
      ]
     },
     "execution_count": 41,
     "metadata": {},
     "output_type": "execute_result"
    }
   ],
   "source": [
    "function distance_to_corner(p::Tuple, s::Square, corner)\n",
    "    corners = Dict(\n",
    "        \"ulc\" => ulc(s),\n",
    "        \"urc\" => urc(s),\n",
    "        \"llc\" => llc(s),\n",
    "        \"lrc\" => lrc(s)\n",
    "    )\n",
    "    distance_formula(p, corners[corner])\n",
    "end"
   ]
  },
  {
   "cell_type": "code",
   "execution_count": 42,
   "id": "68e9f9bd",
   "metadata": {},
   "outputs": [
    {
     "data": {
      "text/plain": [
       "normalize! (generic function with 1 method)"
      ]
     },
     "execution_count": 42,
     "metadata": {},
     "output_type": "execute_result"
    }
   ],
   "source": [
    "function normalize!(vector)\n",
    "    magn = distance_formula((0, 0), (vector[1], vector[2]))\n",
    "    vector = vector ./ magn\n",
    "    vector\n",
    "end"
   ]
  },
  {
   "cell_type": "code",
   "execution_count": 43,
   "id": "f10dbb00",
   "metadata": {
    "scrolled": true
   },
   "outputs": [
    {
     "data": {
      "text/plain": [
       "surface_normal (generic function with 1 method)"
      ]
     },
     "execution_count": 43,
     "metadata": {},
     "output_type": "execute_result"
    }
   ],
   "source": [
    "function surface_normal(s::Square, coord)\n",
    "    solution_map = Dict(\n",
    "    \"top\" => [0.0 1.0],\n",
    "    \"bot\" => [0.0 -1.0],\n",
    "    \"left\" => [-1.0 0.0],\n",
    "    \"right\" => [1.0 0.0],\n",
    "    \"urc\" => [1/sqrt(2) 1/sqrt(2)],\n",
    "    \"ulc\" => [-1/sqrt(2) 1/sqrt(2)],\n",
    "    \"llc\" => [-1/sqrt(2) -1/sqrt(2)],\n",
    "    \"lrc\" => [1/sqrt(2) -1/sqrt(2)],\n",
    "    \"zero\" => [0.0 0.0]\n",
    ")\n",
    "    \n",
    "    # When coord is inside, there are some special cases that immediately give the solution\n",
    "    if point_is_inside(coord, s)\n",
    "        # Check if coord is the Square center\n",
    "        if fuzzy_eq(coord, (s.x, s.y))\n",
    "            return solution_map[\"zero\"]\n",
    "        end\n",
    "\n",
    "        # Check if coord is a corner\n",
    "        if point_is_corner(coord, s)\n",
    "            return solution_map[which_corner(coord, s)]\n",
    "        end\n",
    "\n",
    "        # Check if coord lies on a surface\n",
    "        if point_is_on_surface(coord, s)\n",
    "            return solution_map[which_surface(coord, s)]\n",
    "        end\n",
    "    end\n",
    "    \n",
    "    # None of the special cases occurred so, iterate through the distances to each target\n",
    "    \n",
    "    # Container for candidate targets\n",
    "    candidate = Dict()\n",
    "    min_dist = Inf\n",
    "    min_target = \"\"\n",
    "    \n",
    "    for surface in (\"top\", \"bot\", \"left\", \"right\")\n",
    "        dist2surf = distance_to_surface(coord, s, surface)\n",
    "        # If dist_to_surface ≈ min_dist\n",
    "        if dist2surf ≈ min_dist\n",
    "            # Record a tie in candidate\n",
    "            candidate[surface] = dist2surf\n",
    "        # If dist_to_surface < min_dist\n",
    "        elseif dist2surf < min_dist\n",
    "            # There is a new minimum distance and corresponding target\n",
    "            for key in keys(candidate)\n",
    "                delete!(candidate, key)\n",
    "            end\n",
    "            # Record the new min_dist\n",
    "            min_dist = dist2surf\n",
    "            # Record the new min_target\n",
    "            min_target = surface\n",
    "            # Record the best candidate\n",
    "            candidate[min_target] = min_dist\n",
    "        end\n",
    "    end\n",
    "    \n",
    "\n",
    "    for corner in (\"ulc\", \"urc\", \"llc\", \"lrc\")\n",
    "        dist2cor = distance_to_corner(coord, s, corner)\n",
    "        # If dist_to_corner ≈ min_dist\n",
    "        if dist2cor ≈ min_dist\n",
    "            # Record a tie\n",
    "            candidate[min_target] = min_dist\n",
    "        # If dist_to_corner < min_dist\n",
    "        elseif dist2cor < min_dist\n",
    "            # There is a new minimum distance and corresponding target\n",
    "            for key in keys(candidate)\n",
    "                delete!(candidate, key)\n",
    "            end\n",
    "            # Record the new min_dist\n",
    "            min_dist = dist2cor\n",
    "            # Record the new min_target\n",
    "            min_target = corner\n",
    "            # Record the best candidate\n",
    "            candidate[min_target] = min_dist\n",
    "        end\n",
    "    end\n",
    "    \n",
    "    # Average the best candidates\n",
    "    solution = [0 0]\n",
    "    for key in keys(candidate)\n",
    "        solution = (solution .+ solution_map[key])\n",
    "    end\n",
    "    solution = solution ./ size(collect(keys(candidate)), 1)\n",
    "    normalize!(solution)\n",
    "    \n",
    "end"
   ]
  },
  {
   "cell_type": "markdown",
   "id": "99851c9c",
   "metadata": {},
   "source": [
    "# Question 5\n",
    "\n",
    "> ... specifically the last basis vector\n",
    "\n",
    "~~Since the global space has 2 basis vectors $\\hat e_{x}$ and $\\hat e_{y}$ the transition matrix should take us to $\\hat e_{x}$ $\\hat e_{n}$~~\n",
    "\n",
    "~~So I think the transition matrix will always look like $U = \\begin{bmatrix}1 & n_{1}\\\\ 0 & n_{2} \\end{bmatrix}$~~\n",
    "\n",
    "I now think that \n",
    "\n",
    "> the last basis vector\n",
    "\n",
    "means the normal \"becomes\" the new $e_{2}$\n",
    "\n",
    "In other words, rotate $\\theta$ until $\\hat n_{Q4}$ $\\parallel$ $e_{2}$"
   ]
  },
  {
   "cell_type": "code",
   "execution_count": 1,
   "id": "b57f0c15",
   "metadata": {},
   "outputs": [
    {
     "data": {
      "text/plain": [
       "orient_along_normal (generic function with 1 method)"
      ]
     },
     "execution_count": 1,
     "metadata": {},
     "output_type": "execute_result"
    }
   ],
   "source": [
    "function orient_along_normal(A, normal)\n",
    "    # Calculate the amount to rotate by\n",
    "    rotation_angle = (π/2) - atan(normal[2], normal[1])\n",
    "    # Populate the rotation matrix\n",
    "    R = [cos(rad) -sin(rad); sin(rad) cos(rad)]\n",
    "    # Apply a rotation on A\n",
    "    R * A\n",
    "end"
   ]
  },
  {
   "cell_type": "code",
   "execution_count": null,
   "id": "c0732f98",
   "metadata": {},
   "outputs": [],
   "source": []
  }
 ],
 "metadata": {
  "kernelspec": {
   "display_name": "Julia 1.6.7",
   "language": "julia",
   "name": "julia-1.6"
  },
  "language_info": {
   "file_extension": ".jl",
   "mimetype": "application/julia",
   "name": "julia",
   "version": "1.6.7"
  }
 },
 "nbformat": 4,
 "nbformat_minor": 5
}
